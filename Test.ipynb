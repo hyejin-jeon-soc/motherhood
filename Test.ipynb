{
  "nbformat": 4,
  "nbformat_minor": 0,
  "metadata": {
    "colab": {
      "private_outputs": true,
      "provenance": []
    },
    "kernelspec": {
      "name": "python3",
      "display_name": "Python 3"
    },
    "language_info": {
      "name": "python"
    }
  },
  "cells": [
    {
      "cell_type": "markdown",
      "source": [
        "# 불용어관련 패키기 Kiwi\n",
        "######Kiwi =https://github.com/bab2min/kiwipiepy\n"
      ],
      "metadata": {
        "id": "zQU06fvsILTa"
      }
    },
    {
      "cell_type": "code",
      "source": [
        "!pip3 install kiwipiepy"
      ],
      "metadata": {
        "id": "I7h9fRmz6tvC"
      },
      "execution_count": null,
      "outputs": []
    },
    {
      "cell_type": "code",
      "source": [
        "'''\n",
        "혹시 키위가 없다면..\n",
        "\n",
        "!pip3 install --upgrade pip\n",
        "!pip3 install kiwipiepy\n",
        "\n",
        "나는 이같은 워닝 메시지가 나왔으나 그냥 일단 두고보기로 했어요\n",
        "WARNING: Running pip as the 'root' user can result in broken permissions and conflicting behaviour with the system package manager. It is recommended to use a virtual environment instead: https://pip.pypa.io/warnings/venv\n",
        "\n",
        "'''"
      ],
      "metadata": {
        "id": "7S6fT4ASUVjv"
      },
      "execution_count": null,
      "outputs": []
    },
    {
      "cell_type": "code",
      "source": [
        "import pickle\n",
        "import re\n",
        "import numpy as np\n",
        "import pandas as pd"
      ],
      "metadata": {
        "id": "bNCY4Wk2SqLB"
      },
      "execution_count": null,
      "outputs": []
    },
    {
      "cell_type": "markdown",
      "source": [
        "## Google mount and set directory"
      ],
      "metadata": {
        "id": "ZeAtPSVoSvnf"
      }
    },
    {
      "cell_type": "code",
      "source": [
        "from google.colab import drive\n",
        "drive.mount('/content/gdrive/')"
      ],
      "metadata": {
        "id": "-JXk96yZSrpO"
      },
      "execution_count": null,
      "outputs": []
    },
    {
      "cell_type": "code",
      "source": [
        "directory = '/content/drive/MyDrive/00_projects/03_motherhood/00_recession/'"
      ],
      "metadata": {
        "id": "QgtgdzgrG25U"
      },
      "execution_count": null,
      "outputs": []
    },
    {
      "cell_type": "markdown",
      "source": [
        "## Import file from drive"
      ],
      "metadata": {
        "id": "bLB_Iox7TAxh"
      }
    },
    {
      "cell_type": "code",
      "source": [
        "chosun = pd.read_excel('/content/gdrive/MyDrive/00_projects/03_motherhood/00_recession/IMF_양육19680317_조선뉴스라이브러리.xlsx')"
      ],
      "metadata": {
        "id": "ZFkRMMGtSHfR"
      },
      "execution_count": null,
      "outputs": []
    },
    {
      "cell_type": "code",
      "source": [
        "chosun.dtypes"
      ],
      "metadata": {
        "id": "0SkfR6W8RUJX"
      },
      "execution_count": null,
      "outputs": []
    },
    {
      "cell_type": "code",
      "source": [
        "#'sub2','sub3','sub4' 삭제\n",
        "chosun = chosun.drop(['sub2','sub3','sub4'], axis = 1)"
      ],
      "metadata": {
        "id": "-z_TJGBgG2vs"
      },
      "execution_count": null,
      "outputs": []
    },
    {
      "cell_type": "code",
      "source": [
        "chosun.head(10)"
      ],
      "metadata": {
        "id": "ZeSuQT3VinWb"
      },
      "execution_count": null,
      "outputs": []
    },
    {
      "cell_type": "code",
      "source": [
        "chosun['sub1'][0]"
      ],
      "metadata": {
        "id": "N3_mIqXnLmay"
      },
      "execution_count": null,
      "outputs": []
    },
    {
      "cell_type": "code",
      "source": [
        "chosun['re_contents'][0]"
      ],
      "metadata": {
        "id": "fa16IXnSdwAo"
      },
      "execution_count": null,
      "outputs": []
    },
    {
      "cell_type": "code",
      "source": [
        "chosun.head()"
      ],
      "metadata": {
        "id": "eHQDL7T-RT-M"
      },
      "execution_count": null,
      "outputs": []
    },
    {
      "cell_type": "markdown",
      "source": [
        "## Contents Regulation\n",
        "\n",
        "#### sub1 변수 정규화하여 특수문자, 다중공백 및 불필요한 문구 삭제"
      ],
      "metadata": {
        "id": "W5SFJqsoLmYX"
      }
    },
    {
      "cell_type": "code",
      "source": [
        "\"\"\"\n",
        "참조 https://acdongpgm.tistory.com/166\n",
        "    https://blog.naver.com/PostView.nhn?blogId=wideeyed&logNo=221605317822\n",
        "\n",
        "replace( ) 함수는 조건에 맞는 것을 다른 것으로 대체 해주는 함수.\n",
        "r'[^\\w]' 는 모든 특수문자를 뜻하는 정규 표현식.\n",
        "df[\"variable\"].str 을 하면 글자를 하나하나씩 다 쪼개준다.\n",
        "repl = r'' 이건 제거하겠다는 의미 만약 r' '면 공백으로 대체됨.\n",
        "regex=True 이거는 꼭 작성해줘야 정규표현식이 작동함\n",
        "\n",
        "\"\"\"\n",
        "\n",
        "# sub1 변수 내 contents re_contents변수로 새로 저장\n",
        "  # 특수문자 및 숫자제거 -> r'' : 공백제거\n",
        "  # 원본데이터가손상된경우글자가또는공란으로표기됩니다 삭제\n",
        "chosun['re_contents'] = chosun['sub1'].str.replace(pat=r'[^A-Za-z-가-힣]', repl=r'', regex=True)\n",
        "chosun['re_contents'] = chosun['re_contents'].str.replace(\"원본데이터가손상된경우글자가또는공란으로표기됩니다\", \"\", regex=True)\n",
        "chosun['re_contents'] = chosun['re_contents'].str.lower()"
      ],
      "metadata": {
        "id": "VOzBFvg9LmWY"
      },
      "execution_count": null,
      "outputs": []
    },
    {
      "cell_type": "markdown",
      "source": [
        "## Kiwi 품사태깅"
      ],
      "metadata": {
        "id": "kucT1jkQlBj5"
      }
    },
    {
      "cell_type": "code",
      "source": [
        "from kiwipiepy import Kiwi"
      ],
      "metadata": {
        "id": "Dhsm42C8jhuO"
      },
      "execution_count": null,
      "outputs": []
    },
    {
      "cell_type": "code",
      "source": [
        "#  kiwi_chosun\n",
        "kiwi_chosun = Kiwi()"
      ],
      "metadata": {
        "id": "wzaidkwJLmT4"
      },
      "execution_count": null,
      "outputs": []
    },
    {
      "cell_type": "code",
      "source": [
        "# 형태소분석 pos\n",
        "\n",
        "pos_chosun = lambda x: kiwi_chosun.tokenize(x) if type (x) is str else None\n",
        "chosun['pos_contents']  = chosun['re_contents'].apply(pos_chosun)"
      ],
      "metadata": {
        "id": "24rPNn-bYkDT"
      },
      "execution_count": null,
      "outputs": []
    },
    {
      "cell_type": "code",
      "source": [
        "from collections import Counter\n",
        "\n",
        "\n",
        "'''주요 품사, 용언 품사 정의'''\n",
        "주요품사 = ['NNG', 'NNP', 'VV', 'VA', 'XR', 'SL']\n",
        "용언품사 = ['VV', 'VA']\n",
        "\n",
        "\n",
        "'''Counter를 활용해 가장 많이 나온 n개의 품사 결과를 돌려주는 pos_count() 함수'''\n",
        "def pos_count(chosun, re_contents, output_filename, n=100):\n",
        "    카운터 = Counter()\n",
        "\n",
        "    for index, row in chosun.iterrows():\n",
        "        if row[re_contents]:\n",
        "            필터링결과 = [(token.form, token.tag) for token in row[re_contents] if token.tag in 주요품사]\n",
        "            카운터.update(필터링결과)\n",
        "\n",
        "    with open(output_filename, \"w\", encoding='utf-8-sig') as output_file:\n",
        "        print(\"형태소,품사,개수\", file=output_file)\n",
        "        for (형태소, 품사), 개수 in 카운터.most_common(n):\n",
        "            if 품사 in 용언품사:\n",
        "                형태소 += \"다\"\n",
        "            print(f\"{형태소},{품사},{개수}\", file=output_file)"
      ],
      "metadata": {
        "id": "AY4kOcNza9b1"
      },
      "execution_count": null,
      "outputs": []
    },
    {
      "cell_type": "code",
      "source": [
        "from gensim import corpora, models\n",
        "\n",
        "'''주요 품사 정의'''\n",
        "주요품사 = [\"NNG\", \"NNP\", \"VV\", \"VA\", \"XR\"]\n",
        "용언품사 = [\"VV\", \"VA\" ]\n",
        "\n",
        "\n",
        "'''형태소 분석 결과를 읽어서 주요 품사만 수집한 문서 리스트를 돌려준다.'''\n",
        "def read_documents(df, col):\n",
        "    문서리스트 = []\n",
        "    for index, row in df.iterrows():\n",
        "        if row[col]:\n",
        "            필터링결과 = [(token.form, token.tag) for token in row[col] if token.tag in 주요품사]\n",
        "            필터링결과 = [form+\"다\" if tag in 용언품사 else form for form, tag in 필터링결과]\n",
        "        문서리스트.append(필터링결과)\n",
        "    return 문서리스트\n",
        "\n",
        "\n",
        "'''주어진 문서 집합으로 문서-어휘 행렬을 만들어 돌려준다.'''\n",
        "def build_doc_term_mat(문서리스트):\n",
        "    dictionary = corpora.Dictionary(문서리스트)\n",
        "    corpus = [dictionary.doc2bow(문서) for 문서 in 문서리스트]\n",
        "    return corpus, dictionary\n",
        "\n",
        "\n",
        "'''문서-어휘 행렬을 TF-IDF 문서-단어 행렬로 변환한다.'''\n",
        "def build_corpus_tfidf(corpus):\n",
        "    tfidf = models.TfidfModel(corpus)\n",
        "    corpus_tfidf = tfidf[corpus]\n",
        "    return corpus_tfidf\n",
        "\n",
        "\n",
        "'''토픽별 주요 단어들을 화면에 인쇄한다.'''\n",
        "def print_topic_words(model):\n",
        "    for topic_id in range(model.num_topics):\n",
        "        topic_word_probs = model.show_topic(topic_id, NUM_TOPIC_WORDS)\n",
        "        print(f\"Topic ID: {topic_id}\")\n",
        "        for topic_word, prob in topic_word_probs:\n",
        "            print(f\"\\t{topic_word}\\t{prob:.3f}\")\n",
        "    print(\"\\n\")"
      ],
      "metadata": {
        "id": "mvKpXhnrVpNL"
      },
      "execution_count": null,
      "outputs": []
    },
    {
      "cell_type": "code",
      "source": [],
      "metadata": {
        "id": "HgJAwZAgVxwy"
      },
      "execution_count": null,
      "outputs": []
    },
    {
      "cell_type": "code",
      "source": [],
      "metadata": {
        "id": "izzCpgeLVrbm"
      },
      "execution_count": null,
      "outputs": []
    },
    {
      "cell_type": "code",
      "source": [
        "morph_analysis = lambda x: kiwi_chosun.tokenize(x) if type(x) is str else None\n",
        "chosun['result'] = chosun['re_contents'].apply(morph_analysis)"
      ],
      "metadata": {
        "id": "Y4poNuX-nTGu"
      },
      "execution_count": null,
      "outputs": []
    },
    {
      "cell_type": "markdown",
      "source": [
        "# Topic modeling\n",
        "\n",
        "#### 참조 https://hleecaster.com/python-kiwi-text-analysis-3/"
      ],
      "metadata": {
        "id": "27KEPLFjyPVs"
      }
    },
    {
      "cell_type": "code",
      "source": [
        "from gensim import corpora, models\n",
        "\n",
        "'''주요 품사 정의'''\n",
        "주요품사 = [\"NNG\", \"NNP\", \"VV\", \"VA\", \"XR\"]\n",
        "용언품사 = [\"VV\", \"VA\" ]\n",
        "\n"
      ],
      "metadata": {
        "id": "D7hzu_FMLmRa"
      },
      "execution_count": null,
      "outputs": []
    },
    {
      "cell_type": "code",
      "source": [],
      "metadata": {
        "id": "I57dDw9cLmO5"
      },
      "execution_count": null,
      "outputs": []
    },
    {
      "cell_type": "code",
      "source": [],
      "metadata": {
        "id": "mYXzWf9gLmLQ"
      },
      "execution_count": null,
      "outputs": []
    },
    {
      "cell_type": "code",
      "source": [],
      "metadata": {
        "id": "mL599f0LLmHt"
      },
      "execution_count": null,
      "outputs": []
    },
    {
      "cell_type": "code",
      "source": [],
      "metadata": {
        "id": "KhgD-Q2MLmEk"
      },
      "execution_count": null,
      "outputs": []
    }
  ]
}